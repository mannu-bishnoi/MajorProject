{
 "cells": [
  {
   "cell_type": "code",
   "execution_count": 1,
   "id": "27298b22",
   "metadata": {},
   "outputs": [
    {
     "name": "stderr",
     "output_type": "stream",
     "text": [
      "C:\\Users\\91895\\AppData\\Local\\Programs\\Python\\Python310\\lib\\site-packages\\mrcnn\\model.py:2337: SyntaxWarning: \"is\" with a literal. Did you mean \"==\"?\n",
      "  if os.name is 'nt':\n",
      "C:\\Users\\91895\\AppData\\Local\\Programs\\Python\\Python310\\lib\\site-packages\\mrcnn\\model.py:2337: SyntaxWarning: \"is\" with a literal. Did you mean \"==\"?\n",
      "  if os.name is 'nt':\n"
     ]
    },
    {
     "ename": "AttributeError",
     "evalue": "module 'keras.engine' has no attribute 'Layer'",
     "output_type": "error",
     "traceback": [
      "\u001b[1;31m---------------------------------------------------------------------------\u001b[0m",
      "\u001b[1;31mAttributeError\u001b[0m                            Traceback (most recent call last)",
      "Input \u001b[1;32mIn [1]\u001b[0m, in \u001b[0;36m<cell line: 7>\u001b[1;34m()\u001b[0m\n\u001b[0;32m      5\u001b[0m \u001b[38;5;28;01mfrom\u001b[39;00m \u001b[38;5;21;01mmrcnn\u001b[39;00m\u001b[38;5;21;01m.\u001b[39;00m\u001b[38;5;21;01mvisualize\u001b[39;00m \u001b[38;5;28;01mimport\u001b[39;00m display_instances\n\u001b[0;32m      6\u001b[0m \u001b[38;5;28;01mfrom\u001b[39;00m \u001b[38;5;21;01mmrcnn\u001b[39;00m\u001b[38;5;21;01m.\u001b[39;00m\u001b[38;5;21;01mconfig\u001b[39;00m \u001b[38;5;28;01mimport\u001b[39;00m Config\n\u001b[1;32m----> 7\u001b[0m \u001b[38;5;28;01mimport\u001b[39;00m \u001b[38;5;21;01mmrcnn\u001b[39;00m\u001b[38;5;21;01m.\u001b[39;00m\u001b[38;5;21;01mmodel\u001b[39;00m \u001b[38;5;28;01mas\u001b[39;00m \u001b[38;5;21;01mmodellib\u001b[39;00m\n\u001b[0;32m      9\u001b[0m \u001b[38;5;66;03m# Define a configuration for the Mask R-CNN model\u001b[39;00m\n\u001b[0;32m     10\u001b[0m \u001b[38;5;28;01mclass\u001b[39;00m \u001b[38;5;21;01mTextRemovalConfig\u001b[39;00m(Config):\n",
      "File \u001b[1;32m~\\AppData\\Local\\Programs\\Python\\Python310\\lib\\site-packages\\mrcnn\\model.py:255\u001b[0m, in \u001b[0;36m<module>\u001b[1;34m\u001b[0m\n\u001b[0;32m    251\u001b[0m     clipped\u001b[38;5;241m.\u001b[39mset_shape((clipped\u001b[38;5;241m.\u001b[39mshape[\u001b[38;5;241m0\u001b[39m], \u001b[38;5;241m4\u001b[39m))\n\u001b[0;32m    252\u001b[0m     \u001b[38;5;28;01mreturn\u001b[39;00m clipped\n\u001b[1;32m--> 255\u001b[0m \u001b[38;5;28;01mclass\u001b[39;00m \u001b[38;5;21;01mProposalLayer\u001b[39;00m(\u001b[43mKE\u001b[49m\u001b[38;5;241;43m.\u001b[39;49m\u001b[43mLayer\u001b[49m):\n\u001b[0;32m    256\u001b[0m     \u001b[38;5;124;03m\"\"\"Receives anchor scores and selects a subset to pass as proposals\u001b[39;00m\n\u001b[0;32m    257\u001b[0m \u001b[38;5;124;03m    to the second stage. Filtering is done based on anchor scores and\u001b[39;00m\n\u001b[0;32m    258\u001b[0m \u001b[38;5;124;03m    non-max suppression to remove overlaps. It also applies bounding\u001b[39;00m\n\u001b[1;32m   (...)\u001b[0m\n\u001b[0;32m    267\u001b[0m \u001b[38;5;124;03m        Proposals in normalized coordinates [batch, rois, (y1, x1, y2, x2)]\u001b[39;00m\n\u001b[0;32m    268\u001b[0m \u001b[38;5;124;03m    \"\"\"\u001b[39;00m\n\u001b[0;32m    270\u001b[0m     \u001b[38;5;28;01mdef\u001b[39;00m \u001b[38;5;21m__init__\u001b[39m(\u001b[38;5;28mself\u001b[39m, proposal_count, nms_threshold, config\u001b[38;5;241m=\u001b[39m\u001b[38;5;28;01mNone\u001b[39;00m, \u001b[38;5;241m*\u001b[39m\u001b[38;5;241m*\u001b[39mkwargs):\n",
      "\u001b[1;31mAttributeError\u001b[0m: module 'keras.engine' has no attribute 'Layer'"
     ]
    }
   ],
   "source": [
    "import cv2\n",
    "import numpy as np\n",
    "from mrcnn import utils\n",
    "from mrcnn import visualize\n",
    "from mrcnn.visualize import display_instances\n",
    "from mrcnn.config import Config\n",
    "import mrcnn.model as modellib\n",
    "\n",
    "# Define a configuration for the Mask R-CNN model\n",
    "class TextRemovalConfig(Config):\n",
    "    NAME = \"text_removal\"\n",
    "    GPU_COUNT = 1\n",
    "    IMAGES_PER_GPU = 1\n",
    "    NUM_CLASSES = 2  # Background + Text\n",
    "\n",
    "# Create a Mask R-CNN model in inference mode\n",
    "model = modellib.MaskRCNN(mode=\"inference\", config=TextRemovalConfig(), model_dir='./')\n",
    "\n",
    "# Load pre-trained weights (You need to download these weights)\n",
    "model.load_weights('/path/to/mask_rcnn_text_removal.h5', by_name=True)\n",
    "\n",
    "# Load the input image\n",
    "image = cv2.imread(\"C:\\MajorProject\\image_part_001 (22).png\")\n",
    "\n",
    "# Run detection\n",
    "results = model.detect([image], verbose=1)\n",
    "\n",
    "# Visualize the detected text regions\n",
    "r = results[0]\n",
    "visualize.display_instances(image, r['rois'], r['masks'], r['class_ids'], \n",
    "                            class_names=['BG', 'Text'], scores=r['scores'])\n",
    "\n",
    "# Inpaint text regions with surrounding content (You'll need to implement this part)\n",
    "# You can use libraries like OpenCV or deep learning-based inpainting models for this step.\n",
    "# For instance, you can use OpenCV's inpainting functions:\n",
    "inpainting_mask = r['masks'][:, :, 0]  # Assuming text class is class 1\n",
    "inpainting_mask = inpainting_mask.astype(np.uint8)\n",
    "inpainted_image = cv2.inpaint(image, inpainting_mask, inpaintRadius=3, flags=cv2.INPAINT_TELEA)\n",
    "\n",
    "# Save the inpainted image\n",
    "cv2.imwrite('output.png', inpainted_image)\n"
   ]
  },
  {
   "cell_type": "code",
   "execution_count": null,
   "id": "baef52c4",
   "metadata": {},
   "outputs": [],
   "source": []
  }
 ],
 "metadata": {
  "kernelspec": {
   "display_name": "Python 3 (ipykernel)",
   "language": "python",
   "name": "python3"
  },
  "language_info": {
   "codemirror_mode": {
    "name": "ipython",
    "version": 3
   },
   "file_extension": ".py",
   "mimetype": "text/x-python",
   "name": "python",
   "nbconvert_exporter": "python",
   "pygments_lexer": "ipython3",
   "version": "3.10.1"
  }
 },
 "nbformat": 4,
 "nbformat_minor": 5
}
